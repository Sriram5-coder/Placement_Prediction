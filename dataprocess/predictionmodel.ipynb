{
  "cells": [
    {
      "cell_type": "code",
      "execution_count": 2,
      "metadata": {
        "colab": {
          "base_uri": "https://localhost:8080/"
        },
        "id": "nVEmwCd4N_I8",
        "outputId": "a7b49b25-9435-486c-a7f1-7aafe2050741"
      },
      "outputs": [
        {
          "name": "stdout",
          "output_type": "stream",
          "text": [
            "                           selected thubornot    owlhero  \\\n",
            "0     TCS Digital,Tyke,ZF India,DXC      Thub  OWL CODER   \n",
            "1                               DXC      None       None   \n",
            "2                         TCS Ninja      None       None   \n",
            "3                               JIO      None       None   \n",
            "4                               DXC      None       None   \n",
            "...                             ...       ...        ...   \n",
            "1408                        Kyndryl      None       None   \n",
            "1409                       Hexaware      None       None   \n",
            "1410        Value Momentum,Hexaware      None       None   \n",
            "1411                 Pentagon Space      None       None   \n",
            "1412                       Hexaware      None       None   \n",
            "\n",
            "                                         certifications  \\\n",
            "0     AWS Certified Cloud Practitione , ,AWS Certifi...   \n",
            "1                   , ,AWS Certified Cloud Practitioner   \n",
            "2                   , ,AWS Certified Cloud Practitioner   \n",
            "3                                                  None   \n",
            "4      ,Oracle Cloud Infrastructure Foundations Asso...   \n",
            "...                                                 ...   \n",
            "1408                                               None   \n",
            "1409                                               None   \n",
            "1410                                               None   \n",
            "1411                                               None   \n",
            "1412                                               None   \n",
            "\n",
            "                          skills  \n",
            "0                  aws, mongo db  \n",
            "1                  html, node js  \n",
            "2               blender, blender  \n",
            "3                           html  \n",
            "4     mongo db, machine learning  \n",
            "...                          ...  \n",
            "1408              java, react js  \n",
            "1409               mongo db, css  \n",
            "1410                   css, java  \n",
            "1411          sql, react js, sql  \n",
            "1412                       cloud  \n",
            "\n",
            "[1413 rows x 5 columns]\n"
          ]
        }
      ],
      "source": [
        "import pandas as pd\n",
        "import json\n",
        "\n",
        "# Load the dataset from JSON file\n",
        "with open('dataset.json', 'r') as file:\n",
        "    data = json.load(file)\n",
        "\n",
        "# Create a DataFrame\n",
        "df = pd.DataFrame(data)\n",
        "\n",
        "# Drop columns\n",
        "columns_to_drop = [\"studentid\", \"roll\", \"studentname\", \"package\"]\n",
        "df.drop(columns=columns_to_drop, inplace=True)\n",
        "\n",
        "print(df)\n"
      ]
    },
    {
      "cell_type": "code",
      "execution_count": 3,
      "metadata": {
        "colab": {
          "base_uri": "https://localhost:8080/",
          "height": 241
        },
        "id": "et_OFzDCPJMA",
        "outputId": "c6fc8804-d497-477b-99ad-507883f461f5"
      },
      "outputs": [
        {
          "data": {
            "text/html": [
              "<div>\n",
              "<style scoped>\n",
              "    .dataframe tbody tr th:only-of-type {\n",
              "        vertical-align: middle;\n",
              "    }\n",
              "\n",
              "    .dataframe tbody tr th {\n",
              "        vertical-align: top;\n",
              "    }\n",
              "\n",
              "    .dataframe thead th {\n",
              "        text-align: right;\n",
              "    }\n",
              "</style>\n",
              "<table border=\"1\" class=\"dataframe\">\n",
              "  <thead>\n",
              "    <tr style=\"text-align: right;\">\n",
              "      <th></th>\n",
              "      <th>selected</th>\n",
              "      <th>thubornot</th>\n",
              "      <th>owlhero</th>\n",
              "      <th>certifications</th>\n",
              "      <th>skills</th>\n",
              "    </tr>\n",
              "  </thead>\n",
              "  <tbody>\n",
              "    <tr>\n",
              "      <th>0</th>\n",
              "      <td>TCS Digital,Tyke,ZF India,DXC</td>\n",
              "      <td>Thub</td>\n",
              "      <td>OWL CODER</td>\n",
              "      <td>AWS Certified Cloud Practitione , ,AWS Certifi...</td>\n",
              "      <td>aws, mongo db</td>\n",
              "    </tr>\n",
              "    <tr>\n",
              "      <th>1</th>\n",
              "      <td>DXC</td>\n",
              "      <td>None</td>\n",
              "      <td>None</td>\n",
              "      <td>, ,AWS Certified Cloud Practitioner</td>\n",
              "      <td>html, node js</td>\n",
              "    </tr>\n",
              "    <tr>\n",
              "      <th>2</th>\n",
              "      <td>TCS Ninja</td>\n",
              "      <td>None</td>\n",
              "      <td>None</td>\n",
              "      <td>, ,AWS Certified Cloud Practitioner</td>\n",
              "      <td>blender, blender</td>\n",
              "    </tr>\n",
              "    <tr>\n",
              "      <th>3</th>\n",
              "      <td>JIO</td>\n",
              "      <td>None</td>\n",
              "      <td>None</td>\n",
              "      <td>None</td>\n",
              "      <td>html</td>\n",
              "    </tr>\n",
              "    <tr>\n",
              "      <th>4</th>\n",
              "      <td>DXC</td>\n",
              "      <td>None</td>\n",
              "      <td>None</td>\n",
              "      <td>,Oracle Cloud Infrastructure Foundations Asso...</td>\n",
              "      <td>mongo db, machine learning</td>\n",
              "    </tr>\n",
              "  </tbody>\n",
              "</table>\n",
              "</div>"
            ],
            "text/plain": [
              "                        selected thubornot    owlhero  \\\n",
              "0  TCS Digital,Tyke,ZF India,DXC      Thub  OWL CODER   \n",
              "1                            DXC      None       None   \n",
              "2                      TCS Ninja      None       None   \n",
              "3                            JIO      None       None   \n",
              "4                            DXC      None       None   \n",
              "\n",
              "                                      certifications  \\\n",
              "0  AWS Certified Cloud Practitione , ,AWS Certifi...   \n",
              "1                , ,AWS Certified Cloud Practitioner   \n",
              "2                , ,AWS Certified Cloud Practitioner   \n",
              "3                                               None   \n",
              "4   ,Oracle Cloud Infrastructure Foundations Asso...   \n",
              "\n",
              "                       skills  \n",
              "0               aws, mongo db  \n",
              "1               html, node js  \n",
              "2            blender, blender  \n",
              "3                        html  \n",
              "4  mongo db, machine learning  "
            ]
          },
          "execution_count": 3,
          "metadata": {},
          "output_type": "execute_result"
        }
      ],
      "source": [
        "df.head()"
      ]
    },
    {
      "cell_type": "code",
      "execution_count": 4,
      "metadata": {
        "colab": {
          "base_uri": "https://localhost:8080/"
        },
        "id": "_597PIvjPLN3",
        "outputId": "093cb1e9-b336-4418-9c5d-3f270394c090"
      },
      "outputs": [
        {
          "name": "stderr",
          "output_type": "stream",
          "text": [
            "c:\\Python\\Python311\\Lib\\site-packages\\sklearn\\feature_extraction\\text.py:528: UserWarning: The parameter 'token_pattern' will not be used since 'tokenizer' is not None'\n",
            "  warnings.warn(\n"
          ]
        },
        {
          "name": "stdout",
          "output_type": "stream",
          "text": [
            "Accuracy: 0.7122641509433962\n"
          ]
        }
      ],
      "source": [
        "from sklearn.model_selection import train_test_split\n",
        "from sklearn.ensemble import RandomForestClassifier\n",
        "from sklearn.metrics import accuracy_score\n",
        "from sklearn.preprocessing import MultiLabelBinarizer\n",
        "from sklearn.feature_extraction.text import CountVectorizer\n",
        "from sklearn.pipeline import FeatureUnion, Pipeline\n",
        "from sklearn.compose import ColumnTransformer\n",
        "\n",
        "# Features (X) and target variable (y)\n",
        "X = df[['selected', 'thubornot', 'owlhero', 'certifications', 'skills']]\n",
        "y = df['selected']\n",
        "\n",
        "# Tokenize labels (y) using MultiLabelBinarizer\n",
        "mlb = MultiLabelBinarizer()\n",
        "y_tokenized = mlb.fit_transform(y.str.split(','))\n",
        "\n",
        "# Split the data into training and testing sets with a 70-30 ratio\n",
        "X_train, X_test, y_train, y_test = train_test_split(X, y_tokenized, test_size=0.3, random_state=42)\n",
        "\n",
        "def tokenize(text):\n",
        "    return text.split(',')\n",
        "categorical_cols = ['selected', 'thubornot', 'owlhero', 'certifications', 'skills']\n",
        "categorical_transformer = ColumnTransformer(\n",
        "    transformers=[\n",
        "        ('selected', CountVectorizer(tokenizer=tokenize), 'selected'),\n",
        "        ('thubornot', CountVectorizer(tokenizer=tokenize), 'thubornot'),\n",
        "        ('owlhero', CountVectorizer(tokenizer=tokenize), 'owlhero'),\n",
        "        ('certifications', CountVectorizer(tokenizer=tokenize), 'certifications'),\n",
        "        ('skills', CountVectorizer(tokenizer=tokenize), 'skills')\n",
        "    ])\n",
        "rf_model = Pipeline(steps=[('preprocessor', categorical_transformer),\n",
        "                           ('classifier', RandomForestClassifier(random_state=42))])\n",
        "rf_model.fit(X_train, y_train)\n",
        "y_pred = rf_model.predict(X_test)\n",
        "accuracy = accuracy_score(y_test, y_pred)\n",
        "print(\"Accuracy:\", accuracy)\n"
      ]
    },
    {
      "cell_type": "code",
      "execution_count": 15,
      "metadata": {
        "colab": {
          "base_uri": "https://localhost:8080/"
        },
        "id": "CXcdMTLvScvm",
        "outputId": "bd4de305-3143-4836-caf6-8a67fd3f88c7"
      },
      "outputs": [
        {
          "name": "stderr",
          "output_type": "stream",
          "text": [
            "c:\\Python\\Python311\\Lib\\site-packages\\sklearn\\feature_extraction\\text.py:528: UserWarning: The parameter 'token_pattern' will not be used since 'tokenizer' is not None'\n",
            "  warnings.warn(\n"
          ]
        },
        {
          "name": "stdout",
          "output_type": "stream",
          "text": [
            "Best Parameters: {'classifier__max_depth': None, 'classifier__min_samples_split': 5, 'classifier__n_estimators': 20}\n",
            "Best Accuracy: 0.6441111623852741\n",
            "Test Accuracy: 0.6981132075471698\n"
          ]
        }
      ],
      "source": [
        "from sklearn.model_selection import GridSearchCV\n",
        "param_grid = {\n",
        "    'classifier__n_estimators': [5, 10, 20],\n",
        "    'classifier__max_depth': [None, 10, 20],\n",
        "    'classifier__min_samples_split': [2, 5, 10]\n",
        "}\n",
        "grid_search = GridSearchCV(rf_model, param_grid, cv=5, scoring='accuracy', n_jobs=-1)\n",
        "grid_search.fit(X_train, y_train)\n",
        "best_params = grid_search.best_params_\n",
        "best_accuracy = grid_search.best_score_\n",
        "print(\"Best Parameters:\", best_params)\n",
        "print(\"Best Accuracy:\", best_accuracy)\n",
        "best_rf_model = grid_search.best_estimator_\n",
        "y_pred = best_rf_model.predict(X_test)\n",
        "accuracy = accuracy_score(y_test, y_pred)\n",
        "print(\"Test Accuracy:\", accuracy)\n"
      ]
    },
    {
      "cell_type": "code",
      "execution_count": 17,
      "metadata": {
        "colab": {
          "base_uri": "https://localhost:8080/"
        },
        "id": "_e8k6Mp_QpXo",
        "outputId": "b345372f-8ec0-43c4-90e8-17815cfe6f2c"
      },
      "outputs": [
        {
          "ename": "KeyError",
          "evalue": "'selected'",
          "output_type": "error",
          "traceback": [
            "\u001b[1;31m---------------------------------------------------------------------------\u001b[0m",
            "\u001b[1;31mKeyError\u001b[0m                                  Traceback (most recent call last)",
            "File \u001b[1;32mc:\\Python\\Python311\\Lib\\site-packages\\pandas\\core\\indexes\\base.py:3652\u001b[0m, in \u001b[0;36mIndex.get_loc\u001b[1;34m(self, key)\u001b[0m\n\u001b[0;32m   3651\u001b[0m \u001b[38;5;28;01mtry\u001b[39;00m:\n\u001b[1;32m-> 3652\u001b[0m     \u001b[38;5;28;01mreturn\u001b[39;00m \u001b[38;5;28;43mself\u001b[39;49m\u001b[38;5;241;43m.\u001b[39;49m\u001b[43m_engine\u001b[49m\u001b[38;5;241;43m.\u001b[39;49m\u001b[43mget_loc\u001b[49m\u001b[43m(\u001b[49m\u001b[43mcasted_key\u001b[49m\u001b[43m)\u001b[49m\n\u001b[0;32m   3653\u001b[0m \u001b[38;5;28;01mexcept\u001b[39;00m \u001b[38;5;167;01mKeyError\u001b[39;00m \u001b[38;5;28;01mas\u001b[39;00m err:\n",
            "File \u001b[1;32mc:\\Python\\Python311\\Lib\\site-packages\\pandas\\_libs\\index.pyx:147\u001b[0m, in \u001b[0;36mpandas._libs.index.IndexEngine.get_loc\u001b[1;34m()\u001b[0m\n",
            "File \u001b[1;32mc:\\Python\\Python311\\Lib\\site-packages\\pandas\\_libs\\index.pyx:176\u001b[0m, in \u001b[0;36mpandas._libs.index.IndexEngine.get_loc\u001b[1;34m()\u001b[0m\n",
            "File \u001b[1;32mpandas\\_libs\\hashtable_class_helper.pxi:7080\u001b[0m, in \u001b[0;36mpandas._libs.hashtable.PyObjectHashTable.get_item\u001b[1;34m()\u001b[0m\n",
            "File \u001b[1;32mpandas\\_libs\\hashtable_class_helper.pxi:7088\u001b[0m, in \u001b[0;36mpandas._libs.hashtable.PyObjectHashTable.get_item\u001b[1;34m()\u001b[0m\n",
            "\u001b[1;31mKeyError\u001b[0m: 'selected'",
            "\nThe above exception was the direct cause of the following exception:\n",
            "\u001b[1;31mKeyError\u001b[0m                                  Traceback (most recent call last)",
            "Cell \u001b[1;32mIn[17], line 30\u001b[0m\n\u001b[0;32m     27\u001b[0m     test_df[\u001b[38;5;124m'\u001b[39m\u001b[38;5;124mselected\u001b[39m\u001b[38;5;124m'\u001b[39m] \u001b[38;5;241m=\u001b[39m test_df[\u001b[38;5;124m'\u001b[39m\u001b[38;5;124mselected\u001b[39m\u001b[38;5;124m'\u001b[39m]\u001b[38;5;241m.\u001b[39mapply(\u001b[38;5;28;01mlambda\u001b[39;00m x: \u001b[38;5;124m'\u001b[39m\u001b[38;5;124m,\u001b[39m\u001b[38;5;124m'\u001b[39m\u001b[38;5;241m.\u001b[39mjoin(x\u001b[38;5;241m.\u001b[39msplit(\u001b[38;5;124m'\u001b[39m\u001b[38;5;124m,\u001b[39m\u001b[38;5;124m'\u001b[39m)))\n\u001b[0;32m     28\u001b[0m     \u001b[38;5;28;01mreturn\u001b[39;00m test_df\n\u001b[1;32m---> 30\u001b[0m test_df \u001b[38;5;241m=\u001b[39m \u001b[43mpreprocess_test_cases\u001b[49m\u001b[43m(\u001b[49m\u001b[43mtest_cases\u001b[49m\u001b[43m)\u001b[49m\n\u001b[0;32m     32\u001b[0m predictions \u001b[38;5;241m=\u001b[39m rf_model\u001b[38;5;241m.\u001b[39mpredict(test_df)\n\u001b[0;32m     33\u001b[0m predicted_labels \u001b[38;5;241m=\u001b[39m mlb\u001b[38;5;241m.\u001b[39minverse_transform(predictions)\n",
            "Cell \u001b[1;32mIn[17], line 27\u001b[0m, in \u001b[0;36mpreprocess_test_cases\u001b[1;34m(test_cases)\u001b[0m\n\u001b[0;32m     25\u001b[0m \u001b[38;5;28;01mdef\u001b[39;00m \u001b[38;5;21mpreprocess_test_cases\u001b[39m(test_cases):\n\u001b[0;32m     26\u001b[0m     test_df \u001b[38;5;241m=\u001b[39m pd\u001b[38;5;241m.\u001b[39mDataFrame(test_cases)\n\u001b[1;32m---> 27\u001b[0m     test_df[\u001b[38;5;124m'\u001b[39m\u001b[38;5;124mselected\u001b[39m\u001b[38;5;124m'\u001b[39m] \u001b[38;5;241m=\u001b[39m \u001b[43mtest_df\u001b[49m\u001b[43m[\u001b[49m\u001b[38;5;124;43m'\u001b[39;49m\u001b[38;5;124;43mselected\u001b[39;49m\u001b[38;5;124;43m'\u001b[39;49m\u001b[43m]\u001b[49m\u001b[38;5;241m.\u001b[39mapply(\u001b[38;5;28;01mlambda\u001b[39;00m x: \u001b[38;5;124m'\u001b[39m\u001b[38;5;124m,\u001b[39m\u001b[38;5;124m'\u001b[39m\u001b[38;5;241m.\u001b[39mjoin(x\u001b[38;5;241m.\u001b[39msplit(\u001b[38;5;124m'\u001b[39m\u001b[38;5;124m,\u001b[39m\u001b[38;5;124m'\u001b[39m)))\n\u001b[0;32m     28\u001b[0m     \u001b[38;5;28;01mreturn\u001b[39;00m test_df\n",
            "File \u001b[1;32mc:\\Python\\Python311\\Lib\\site-packages\\pandas\\core\\frame.py:3761\u001b[0m, in \u001b[0;36mDataFrame.__getitem__\u001b[1;34m(self, key)\u001b[0m\n\u001b[0;32m   3759\u001b[0m \u001b[38;5;28;01mif\u001b[39;00m \u001b[38;5;28mself\u001b[39m\u001b[38;5;241m.\u001b[39mcolumns\u001b[38;5;241m.\u001b[39mnlevels \u001b[38;5;241m>\u001b[39m \u001b[38;5;241m1\u001b[39m:\n\u001b[0;32m   3760\u001b[0m     \u001b[38;5;28;01mreturn\u001b[39;00m \u001b[38;5;28mself\u001b[39m\u001b[38;5;241m.\u001b[39m_getitem_multilevel(key)\n\u001b[1;32m-> 3761\u001b[0m indexer \u001b[38;5;241m=\u001b[39m \u001b[38;5;28;43mself\u001b[39;49m\u001b[38;5;241;43m.\u001b[39;49m\u001b[43mcolumns\u001b[49m\u001b[38;5;241;43m.\u001b[39;49m\u001b[43mget_loc\u001b[49m\u001b[43m(\u001b[49m\u001b[43mkey\u001b[49m\u001b[43m)\u001b[49m\n\u001b[0;32m   3762\u001b[0m \u001b[38;5;28;01mif\u001b[39;00m is_integer(indexer):\n\u001b[0;32m   3763\u001b[0m     indexer \u001b[38;5;241m=\u001b[39m [indexer]\n",
            "File \u001b[1;32mc:\\Python\\Python311\\Lib\\site-packages\\pandas\\core\\indexes\\base.py:3654\u001b[0m, in \u001b[0;36mIndex.get_loc\u001b[1;34m(self, key)\u001b[0m\n\u001b[0;32m   3652\u001b[0m     \u001b[38;5;28;01mreturn\u001b[39;00m \u001b[38;5;28mself\u001b[39m\u001b[38;5;241m.\u001b[39m_engine\u001b[38;5;241m.\u001b[39mget_loc(casted_key)\n\u001b[0;32m   3653\u001b[0m \u001b[38;5;28;01mexcept\u001b[39;00m \u001b[38;5;167;01mKeyError\u001b[39;00m \u001b[38;5;28;01mas\u001b[39;00m err:\n\u001b[1;32m-> 3654\u001b[0m     \u001b[38;5;28;01mraise\u001b[39;00m \u001b[38;5;167;01mKeyError\u001b[39;00m(key) \u001b[38;5;28;01mfrom\u001b[39;00m \u001b[38;5;21;01merr\u001b[39;00m\n\u001b[0;32m   3655\u001b[0m \u001b[38;5;28;01mexcept\u001b[39;00m \u001b[38;5;167;01mTypeError\u001b[39;00m:\n\u001b[0;32m   3656\u001b[0m     \u001b[38;5;66;03m# If we have a listlike key, _check_indexing_error will raise\u001b[39;00m\n\u001b[0;32m   3657\u001b[0m     \u001b[38;5;66;03m#  InvalidIndexError. Otherwise we fall through and re-raise\u001b[39;00m\n\u001b[0;32m   3658\u001b[0m     \u001b[38;5;66;03m#  the TypeError.\u001b[39;00m\n\u001b[0;32m   3659\u001b[0m     \u001b[38;5;28mself\u001b[39m\u001b[38;5;241m.\u001b[39m_check_indexing_error(key)\n",
            "\u001b[1;31mKeyError\u001b[0m: 'selected'"
          ]
        }
      ],
      "source": [
        "\n",
        "import pandas as pd\n",
        "from sklearn.preprocessing import MultiLabelBinarizer\n",
        "from sklearn.feature_extraction.text import CountVectorizer\n",
        "from sklearn.pipeline import Pipeline\n",
        "from sklearn.compose import ColumnTransformer\n",
        "test_cases = [\n",
        "    {\n",
        "       \n",
        "        'thubornot': 'Thub',\n",
        "        'owlhero': 'OWL CODER',\n",
        "        'certifications': 'AWS Certified Cloud Practitioner , ,AWS Certified Cloud Practitioner',\n",
        "        'skills': 'python'\n",
        "    },\n",
        "    {\n",
        "        \n",
        "        'thubornot': 'None',\n",
        "        'owlhero': 'None',\n",
        "        'certifications': 'None',\n",
        "        'skills': 'python'\n",
        "    }\n",
        "\n",
        "]\n",
        "\n",
        "\n",
        "def preprocess_test_cases(test_cases):\n",
        "    test_df = pd.DataFrame(test_cases)\n",
        "    test_df['selected'] = test_df['selected'].apply(lambda x: ','.join(x.split(',')))\n",
        "    return test_df\n",
        "\n",
        "test_df = preprocess_test_cases(test_cases)\n",
        "\n",
        "predictions = rf_model.predict(test_df)\n",
        "predicted_labels = mlb.inverse_transform(predictions)\n",
        "print(\"Predicted labels:\")\n",
        "for labels in predicted_labels:\n",
        "    print(labels)\n"
      ]
    },
    {
      "cell_type": "code",
      "execution_count": null,
      "metadata": {},
      "outputs": [],
      "source": []
    }
  ],
  "metadata": {
    "accelerator": "GPU",
    "colab": {
      "gpuType": "T4",
      "provenance": []
    },
    "kernelspec": {
      "display_name": "Python 3",
      "name": "python3"
    },
    "language_info": {
      "codemirror_mode": {
        "name": "ipython",
        "version": 3
      },
      "file_extension": ".py",
      "mimetype": "text/x-python",
      "name": "python",
      "nbconvert_exporter": "python",
      "pygments_lexer": "ipython3",
      "version": "3.11.4"
    }
  },
  "nbformat": 4,
  "nbformat_minor": 0
}
