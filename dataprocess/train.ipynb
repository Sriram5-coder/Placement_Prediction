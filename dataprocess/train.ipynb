{
 "cells": [
  {
   "cell_type": "code",
   "execution_count": null,
   "metadata": {},
   "outputs": [],
   "source": [
    "import json\n",
    "\n",
    "# Load the JSON data from the file\n",
    "with open(\"train.json\", \"r\") as file:\n",
    "    data = json.load(file)\n",
    "\n",
    "# Replace missing values with None\n",
    "for entry in data:\n",
    "    entry[\"THUB or Non THUB\"] = entry.get(\"THUB or Non THUB\", \"None\")\n",
    "    entry[\"OwlCoder or HeroVired\"] = entry.get(\"OwlCoder or HeroVired\", \"None\")\n",
    "    entry[\"Certifications\"] = entry.get(\"Certifications\", \"None\")\n",
    "\n",
    "# Write the updated data back to the file\n",
    "with open(\"dataset.json\", \"w\") as file:\n",
    "    json.dump(data, file, indent=4)"
   ]
  },
  {
   "cell_type": "code",
   "execution_count": null,
   "metadata": {},
   "outputs": [],
   "source": [
    "import pandas as pd\n",
    "\n",
    "# Load the JSON dataset into a DataFrame\n",
    "df = pd.read_json(\"dataset.json\")"
   ]
  },
  {
   "cell_type": "code",
   "execution_count": null,
   "metadata": {},
   "outputs": [],
   "source": [
    "# Display the first few rows of the DataFrame\n",
    "print(df.head())\n",
    "\n",
    "# Get information about the DataFrame\n",
    "print(df.info())\n",
    "\n",
    "# Summary statistics of numerical columns\n",
    "print(df.describe())\n",
    "\n",
    "# Check for missing values\n",
    "print(df.isnull().sum())"
   ]
  },
  {
   "cell_type": "code",
   "execution_count": null,
   "metadata": {},
   "outputs": [],
   "source": [
    "# Replace missing values with None\n",
    "df[\"THUB or Non THUB\"].fillna(\"None\", inplace=True)\n",
    "df[\"OwlCoder or HeroVired\"].fillna(\"None\", inplace=True)\n",
    "df[\"Certifications\"].fillna(\"None\", inplace=True)\n",
    "\n",
    "# Display the processed DataFrame\n",
    "print(df.head())"
   ]
  },
  {
   "cell_type": "code",
   "execution_count": null,
   "metadata": {},
   "outputs": [],
   "source": [
    "print(df.isnull().sum())"
   ]
  },
  {
   "cell_type": "code",
   "execution_count": null,
   "metadata": {},
   "outputs": [],
   "source": [
    "import json\n",
    "\n",
    "# Load the JSON data from the file\n",
    "with open(\"dataset.json\", \"r\") as file:\n",
    "    data = json.load(file)\n",
    "\n",
    "# Remove unwanted commas from the \"Certifications\" field\n",
    "for entry in data:\n",
    "    if \"Certifications\" in entry:\n",
    "        entry[\"Certifications\"] = entry[\"Certifications\"].replace(\" ,\", \",\")\n",
    "\n",
    "# Write the updated data back to the file\n",
    "with open(\"com.json\", \"w\") as file:\n",
    "    json.dump(data, file, indent=4)"
   ]
  },
  {
   "cell_type": "code",
   "execution_count": null,
   "metadata": {},
   "outputs": [],
   "source": [
    "import pandas as pd\n",
    "\n",
    "df = pd.read_json(\"preprocessed_dataset.json\")\n",
    "\n",
    "print(df)"
   ]
  },
  {
   "cell_type": "code",
   "execution_count": null,
   "metadata": {},
   "outputs": [],
   "source": [
    "import pandas as pd\n",
    "\n",
    "# Read JSON file into DataFrame\n",
    "df = pd.read_json(\"preprocessed_dataset.json\")\n",
    "\n",
    "# Set display options to show all rows and columns\n",
    "pd.set_option(\"display.max_rows\", None)\n",
    "pd.set_option(\"display.max_columns\", None)\n",
    "\n",
    "# Print the entire DataFrame\n",
    "print(df)"
   ]
  },
  {
   "cell_type": "code",
   "execution_count": null,
   "metadata": {},
   "outputs": [],
   "source": [
    "import json\n",
    "with open(\"preprocessed_dataset.json\", \"r\") as file:\n",
    "    data = json.load(file)\n",
    "def replace_quotes(data):\n",
    "    for entry in data:\n",
    "        for key, value in entry.items():\n",
    "            if isinstance(value, list):\n",
    "                entry[key] = [str(item) for item in value]\n",
    "            else:\n",
    "                entry[key] = [str(value)]\n",
    "replace_quotes(data)\n",
    "with open(\"final_dataset.json\", \"w\") as file:\n",
    "    json.dump(data, file, indent=2)"
   ]
  },
  {
   "cell_type": "code",
   "execution_count": null,
   "metadata": {},
   "outputs": [],
   "source": [
    "import json\n",
    "\n",
    "# Load the JSON data from the file\n",
    "with open(\"preprocessed_dataset.json\", \"r\") as file:\n",
    "    data = json.load(file)\n",
    "\n",
    "\n",
    "# Function to convert all values to integers\n",
    "def convert_to_int(data):\n",
    "    for entry in data:\n",
    "        for key, value in entry.items():\n",
    "            if isinstance(value, list):\n",
    "                entry[key] = [int(item) for item in value]\n",
    "            else:\n",
    "                entry[key] = int(value)\n",
    "\n",
    "\n",
    "# Call the function to convert values to integers\n",
    "convert_to_int(data)\n",
    "\n",
    "# Save the modified data back to the JSON file\n",
    "with open(\"final_dataset.json\", \"w\") as file:\n",
    "    json.dump(data, file, indent=2)  # indent for pretty printing (optional)"
   ]
  },
  {
   "cell_type": "code",
   "execution_count": null,
   "metadata": {},
   "outputs": [],
   "source": [
    "import pandas as pd"
   ]
  },
  {
   "cell_type": "code",
   "execution_count": null,
   "metadata": {},
   "outputs": [],
   "source": [
    "df = pd.read_json(\"final_dataset.json\")"
   ]
  },
  {
   "cell_type": "code",
   "execution_count": null,
   "metadata": {},
   "outputs": [],
   "source": [
    "df.head()"
   ]
  },
  {
   "cell_type": "code",
   "execution_count": null,
   "metadata": {},
   "outputs": [],
   "source": [
    "company = df['selected']\n",
    "for i in company:\n",
    "    list = \",\".join(str(x) for x in i)\n",
    "    list = f\"({list})\"\n",
    "    print(list)"
   ]
  },
  {
   "cell_type": "code",
   "execution_count": null,
   "metadata": {},
   "outputs": [],
   "source": [
    "certifications = {\n",
    "    \"oracle cloud infrastructure foundations associate\": 1,\n",
    "    \"aws certified cloud practitioner\": 2,\n",
    "    \"aws certified solutions architect - associate1\": 3,\n",
    "    \"aws cloud practitioner\": 4,\n",
    "    \"mta security fundamentals\": 5,\n",
    "    \"mta python\": 6,\n",
    "    \"google cloud certified associate cloud engineer\": 7,\n",
    "    \"mta java\": 8,\n",
    "    \"microsoft azure fundamentals\":9,\n",
    "    \"junipernetworksjnciajunosjn0103certifiedassociate\":10,\n",
    "    \"mta49\":11,\n",
    "\n",
    "}\n",
    "thubornot = {\"thub\": 1}\n",
    "owlhero = {\"owl coder\": 1, \"hero vired\": 2, \"both\":3}\n",
    "skills = {\n",
    "    \"photoshop\": 1,\n",
    "    \"unreal engine\": 2,\n",
    "    \"react js\": 3,\n",
    "    \"bootstrap\": 4,\n",
    "    \"cloud\": 5,\n",
    "    \"python\": 6,\n",
    "    \"java script\": 7,\n",
    "    \"express js\": 8,\n",
    "    \"c++\": 9,\n",
    "    \"sql\": 10,\n",
    "    \"maya\": 11,\n",
    "    \"blender\": 12,\n",
    "    \"css\": 13,\n",
    "    \"c#\": 14,\n",
    "    \"c\":15\n",
    "}\n"
   ]
  },
  {
   "cell_type": "code",
   "execution_count": 30,
   "metadata": {},
   "outputs": [
    {
     "name": "stdout",
     "output_type": "stream",
     "text": [
      "maya\n"
     ]
    }
   ],
   "source": [
    "def get_key(label,val):\n",
    "   \n",
    "    for key, value in label.items():\n",
    "        if val == value:\n",
    "            return key\n",
    " \n",
    "    return \"key doesn't exist\"\n",
    " \n",
    "\n",
    "print(get_key(skills,11))"
   ]
  },
  {
   "cell_type": "code",
   "execution_count": 31,
   "metadata": {},
   "outputs": [
    {
     "name": "stdout",
     "output_type": "stream",
     "text": [
      "<class 'pandas.core.frame.DataFrame'>\n",
      "RangeIndex: 1413 entries, 0 to 1412\n",
      "Data columns (total 5 columns):\n",
      " #   Column          Non-Null Count  Dtype \n",
      "---  ------          --------------  ----- \n",
      " 0   selected        1413 non-null   object\n",
      " 1   thubornot       1413 non-null   int64 \n",
      " 2   owlhero         1413 non-null   int64 \n",
      " 3   certifications  1413 non-null   object\n",
      " 4   skills          1413 non-null   object\n",
      "dtypes: int64(2), object(3)\n",
      "memory usage: 55.3+ KB\n"
     ]
    }
   ],
   "source": [
    "df.info()"
   ]
  },
  {
   "cell_type": "code",
   "execution_count": null,
   "metadata": {},
   "outputs": [],
   "source": []
  }
 ],
 "metadata": {
  "kernelspec": {
   "display_name": "Python 3",
   "language": "python",
   "name": "python3"
  },
  "language_info": {
   "codemirror_mode": {
    "name": "ipython",
    "version": 3
   },
   "file_extension": ".py",
   "mimetype": "text/x-python",
   "name": "python",
   "nbconvert_exporter": "python",
   "pygments_lexer": "ipython3",
   "version": "3.11.4"
  }
 },
 "nbformat": 4,
 "nbformat_minor": 2
}
